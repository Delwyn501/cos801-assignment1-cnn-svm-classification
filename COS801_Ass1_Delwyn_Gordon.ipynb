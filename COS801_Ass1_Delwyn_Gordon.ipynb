{
 "cells": [
  {
   "cell_type": "code",
   "execution_count": 4,
   "id": "d5f68a28",
   "metadata": {
    "ExecuteTime": {
     "end_time": "2025-08-23T21:27:27.928752800Z",
     "start_time": "2025-08-23T21:27:27.886496100Z"
    }
   },
   "outputs": [],
   "source": [
    "\n",
    "import sys, subprocess\n",
    "\n",
    "def ensure(pkg_import_name, pip_name=None):\n",
    "    pip_name = pip_name or pkg_import_name\n",
    "    try:\n",
    "        __import__(pkg_import_name)\n",
    "    except Exception:\n",
    "        subprocess.check_call([sys.executable, \"-m\", \"pip\", \"install\", \"--quiet\", pip_name])\n",
    "\n",
    "\n",
    "ensure(\"numpy\", \"numpy\")\n",
    "ensure(\"tensorflow\", \"tensorflow\")          \n",
    "ensure(\"sklearn\", \"scikit-learn\")\n",
    "ensure(\"matplotlib\", \"matplotlib\")\n",
    "ensure(\"pandas\", \"pandas\")\n",
    "ensure(\"IPython\", \"ipython\")\n",
    "\n",
    "\n",
    "try:\n",
    "    ensure(\"xgboost\", \"xgboost\")\n",
    "except Exception:\n",
    "    print(\"xgboost could not be installed; code will use GradientBoostingClassifier as fallback.\")\n"
   ]
  },
  {
   "cell_type": "code",
   "execution_count": 5,
   "id": "b2de6a3b",
   "metadata": {
    "ExecuteTime": {
     "end_time": "2025-08-23T21:27:27.930835200Z",
     "start_time": "2025-08-23T21:27:27.909591Z"
    }
   },
   "outputs": [
    {
     "name": "stdout",
     "output_type": "stream",
     "text": [
      "TensorFlow: 2.19.0\n",
      "root is C:\\Users\\qxz3g7a\\PycharmProjects\\MIT-Projects\\cos801\\assignment 1\\data\n",
      "training dir C:\\Users\\qxz3g7a\\PycharmProjects\\MIT-Projects\\cos801\\assignment 1\\data\\train/train\n"
     ]
    }
   ],
   "source": [
    "import os, random, warnings, math\n",
    "from pathlib import Path\n",
    "warnings.filterwarnings(\"ignore\")\n",
    "\n",
    "\n",
    "desired_path = Path(\"C:/Users/qxz3g7a/PycharmProjects/MIT-Projects/cos801/assignment 1/data\")\n",
    "os.chdir(desired_path)\n",
    "\n",
    "import numpy as np \n",
    "import tensorflow as tf\n",
    "from tensorflow import keras\n",
    "from tensorflow.keras import layers\n",
    "\n",
    "from sklearn.metrics import f1_score, roc_curve, auc\n",
    "from sklearn.preprocessing import label_binarize, StandardScaler\n",
    "from sklearn.pipeline import make_pipeline\n",
    "from sklearn.svm import SVC\n",
    "\n",
    "\n",
    "try:\n",
    "    from xgboost import XGBClassifier\n",
    "    XGB_AVAILABLE = True\n",
    "except Exception:\n",
    "    from sklearn.ensemble import GradientBoostingClassifier\n",
    "    XGB_AVAILABLE = False\n",
    "    print(\"xgboost not found; using GradientBoostingClassifier as the fallback.\")\n",
    "\n",
    "from pathlib import Path\n",
    "import matplotlib.pyplot as plt\n",
    "import pandas as pd\n",
    "from IPython.display import display\n",
    "\n",
    "\n",
    "SEED = 123\n",
    "random.seed(SEED); np.random.seed(SEED); tf.random.set_seed(SEED)\n",
    "\n",
    "\n",
    "\n",
    "ROOT       = os.getcwd()\n",
    "\n",
    "TRAIN_DIR  = os.path.join(ROOT, \"train/train\")\n",
    "VAL_DIR    = None       \n",
    "TEST_DIR   = os.path.join(ROOT, \"test/test\")   \n",
    "USE_SPLIT  = True       \n",
    "IMG_SIZE   = 256\n",
    "BATCH_SIZE = 20\n",
    "EPOCHS     = 25\n",
    "AUTOTUNE   = tf.data.AUTOTUNE\n",
    "\n",
    "\n",
    "CLASS_NAMES = [\"Black-grass\",\"Charlock\",\"Cleavers\",\"Common Chickweed\",\"Common wheat\",\"Fat Hen\",\n",
    "    \"Loose Silky-bent\",\"Maize\",\"Scentless Mayweed\",\"Shepherds Purse\",\n",
    "    \"Small-flowered Cranesbill\",\"Sugar beet\"\n",
    "]\n",
    "print(f\"TensorFlow: {tf.__version__}\")\n",
    "print('root is', ROOT)\n",
    "print('training dir', TRAIN_DIR)"
   ]
  },
  {
   "cell_type": "code",
   "execution_count": 6,
   "id": "f23bd8fb",
   "metadata": {
    "ExecuteTime": {
     "end_time": "2025-08-23T21:27:29.223788900Z",
     "start_time": "2025-08-23T21:27:27.935550900Z"
    }
   },
   "outputs": [
    {
     "name": "stdout",
     "output_type": "stream",
     "text": [
      "Detected 12 classes:\n",
      "['Black-grass', 'Charlock', 'Cleavers', 'Common Chickweed', 'Common wheat', 'Fat Hen', 'Loose Silky-bent', 'Maize', 'Scentless Mayweed', 'Shepherds Purse', 'Small-flowered Cranesbill', 'Sugar beet']\n",
      "Found 4750 files belonging to 12 classes.\n",
      "Using 3800 files for training.\n",
      "Found 4750 files belonging to 12 classes.\n",
      "Using 950 files for validation.\n",
      "the training data set is <_PrefetchDataset element_spec=(TensorSpec(shape=(None, 256, 256, 3), dtype=tf.float32, name=None), TensorSpec(shape=(None, 12), dtype=tf.float32, name=None))>\n",
      "the validation data set is <_PrefetchDataset element_spec=(TensorSpec(shape=(None, 256, 256, 3), dtype=tf.float32, name=None), TensorSpec(shape=(None, 12), dtype=tf.float32, name=None))>\n"
     ]
    }
   ],
   "source": [
    "def list_class_folders(root, allowed):\n",
    "    found = []\n",
    "    for d in sorted(os.listdir(root)):\n",
    "        p = os.path.join(root, d)\n",
    "        if os.path.isdir(p) and d in allowed:\n",
    "            found.append(d)\n",
    "    if not found:\n",
    "        raise RuntimeError(f\"No valid class folders in {root}. Expected one or more of: {allowed}\")\n",
    "    return found\n",
    "\n",
    "def make_ds_from_directory(path, subset=None, validation_split=None, shuffle=True, seed=SEED):\n",
    "    return tf.keras.preprocessing.image_dataset_from_directory(\n",
    "        path,\n",
    "        labels=\"inferred\",\n",
    "        label_mode=\"categorical\",\n",
    "        class_names=CLASS_NAMES,         \n",
    "        image_size=(IMG_SIZE, IMG_SIZE),\n",
    "        batch_size=BATCH_SIZE,\n",
    "        shuffle=shuffle,\n",
    "        seed=seed,\n",
    "        validation_split=validation_split,\n",
    "        subset=subset,\n",
    "    )\n",
    "\n",
    "CLASS_NAMES = list_class_folders(TRAIN_DIR, CLASS_NAMES)\n",
    "NUM_CLASSES = len(CLASS_NAMES)\n",
    "print(f\"Detected {NUM_CLASSES} classes:\\n{CLASS_NAMES}\")\n",
    "\n",
    "def prepare(ds, training=False):\n",
    "    ds = ds.cache()\n",
    "    if training: ds = ds.shuffle(1000, seed=SEED, reshuffle_each_iteration=True)\n",
    "    return ds.prefetch(AUTOTUNE)\n",
    "\n",
    "if USE_SPLIT or not VAL_DIR:\n",
    "    train_ds = make_ds_from_directory(TRAIN_DIR, subset=\"training\",   validation_split=0.20, shuffle=True)\n",
    "    val_ds   = make_ds_from_directory(TRAIN_DIR, subset=\"validation\", validation_split=0.20, shuffle=False)\n",
    "else:\n",
    "    train_ds = make_ds_from_directory(TRAIN_DIR, shuffle=True)\n",
    "    val_ds   = make_ds_from_directory(VAL_DIR,   shuffle=False)\n",
    "\n",
    "\n",
    "print('the training data set is', train_ds)\n",
    "print('the validation data set is', val_ds)\n",
    "train_ds = prepare(train_ds, training=True)\n",
    "val_ds   = prepare(val_ds,   training=False)"
   ]
  },
  {
   "cell_type": "markdown",
   "id": "949a6464",
   "metadata": {},
   "source": [
    "# CNN"
   ]
  },
  {
   "cell_type": "code",
   "execution_count": 7,
   "id": "fe20da15",
   "metadata": {
    "ExecuteTime": {
     "end_time": "2025-08-23T22:08:51.789035Z",
     "start_time": "2025-08-23T21:27:29.213799500Z"
    }
   },
   "outputs": [
    {
     "name": "stdout",
     "output_type": "stream",
     "text": [
      "Epoch 1/25\n",
      "\u001B[1m190/190\u001B[0m \u001B[32m━━━━━━━━━━━━━━━━━━━━\u001B[0m\u001B[37m\u001B[0m \u001B[1m143s\u001B[0m 732ms/step - accuracy: 0.2686 - loss: 2.1627 - val_accuracy: 0.0000e+00 - val_loss: 4.1309 - learning_rate: 0.0010\n",
      "Epoch 2/25\n",
      "\u001B[1m190/190\u001B[0m \u001B[32m━━━━━━━━━━━━━━━━━━━━\u001B[0m\u001B[37m\u001B[0m \u001B[1m133s\u001B[0m 698ms/step - accuracy: 0.4895 - loss: 1.4933 - val_accuracy: 0.0000e+00 - val_loss: 4.1933 - learning_rate: 0.0010\n",
      "Epoch 3/25\n",
      "\u001B[1m190/190\u001B[0m \u001B[32m━━━━━━━━━━━━━━━━━━━━\u001B[0m\u001B[37m\u001B[0m \u001B[1m133s\u001B[0m 702ms/step - accuracy: 0.5714 - loss: 1.2781 - val_accuracy: 0.2611 - val_loss: 2.6529 - learning_rate: 0.0010\n",
      "Epoch 4/25\n",
      "\u001B[1m190/190\u001B[0m \u001B[32m━━━━━━━━━━━━━━━━━━━━\u001B[0m\u001B[37m\u001B[0m \u001B[1m132s\u001B[0m 693ms/step - accuracy: 0.6058 - loss: 1.1570 - val_accuracy: 0.0747 - val_loss: 3.3594 - learning_rate: 0.0010\n",
      "Epoch 5/25\n",
      "\u001B[1m190/190\u001B[0m \u001B[32m━━━━━━━━━━━━━━━━━━━━\u001B[0m\u001B[37m\u001B[0m \u001B[1m134s\u001B[0m 704ms/step - accuracy: 0.6099 - loss: 1.1122 - val_accuracy: 0.4684 - val_loss: 1.3554 - learning_rate: 0.0010\n",
      "Epoch 6/25\n",
      "\u001B[1m190/190\u001B[0m \u001B[32m━━━━━━━━━━━━━━━━━━━━\u001B[0m\u001B[37m\u001B[0m \u001B[1m136s\u001B[0m 715ms/step - accuracy: 0.6455 - loss: 1.0226 - val_accuracy: 0.4789 - val_loss: 1.5598 - learning_rate: 0.0010\n",
      "Epoch 7/25\n",
      "\u001B[1m190/190\u001B[0m \u001B[32m━━━━━━━━━━━━━━━━━━━━\u001B[0m\u001B[37m\u001B[0m \u001B[1m132s\u001B[0m 697ms/step - accuracy: 0.6740 - loss: 0.9349 - val_accuracy: 0.3400 - val_loss: 1.8080 - learning_rate: 0.0010\n",
      "Epoch 8/25\n",
      "\u001B[1m190/190\u001B[0m \u001B[32m━━━━━━━━━━━━━━━━━━━━\u001B[0m\u001B[37m\u001B[0m \u001B[1m132s\u001B[0m 696ms/step - accuracy: 0.7042 - loss: 0.8619 - val_accuracy: 0.7874 - val_loss: 0.7505 - learning_rate: 5.0000e-04\n",
      "Epoch 9/25\n",
      "\u001B[1m190/190\u001B[0m \u001B[32m━━━━━━━━━━━━━━━━━━━━\u001B[0m\u001B[37m\u001B[0m \u001B[1m132s\u001B[0m 696ms/step - accuracy: 0.7162 - loss: 0.8028 - val_accuracy: 0.7432 - val_loss: 0.6963 - learning_rate: 5.0000e-04\n",
      "Epoch 10/25\n",
      "\u001B[1m190/190\u001B[0m \u001B[32m━━━━━━━━━━━━━━━━━━━━\u001B[0m\u001B[37m\u001B[0m \u001B[1m130s\u001B[0m 686ms/step - accuracy: 0.7251 - loss: 0.7613 - val_accuracy: 0.5558 - val_loss: 1.2851 - learning_rate: 5.0000e-04\n",
      "Epoch 11/25\n",
      "\u001B[1m190/190\u001B[0m \u001B[32m━━━━━━━━━━━━━━━━━━━━\u001B[0m\u001B[37m\u001B[0m \u001B[1m129s\u001B[0m 680ms/step - accuracy: 0.7324 - loss: 0.7473 - val_accuracy: 0.7358 - val_loss: 0.8861 - learning_rate: 5.0000e-04\n",
      "Epoch 12/25\n",
      "\u001B[1m190/190\u001B[0m \u001B[32m━━━━━━━━━━━━━━━━━━━━\u001B[0m\u001B[37m\u001B[0m \u001B[1m129s\u001B[0m 680ms/step - accuracy: 0.7293 - loss: 0.7617 - val_accuracy: 0.5663 - val_loss: 1.1246 - learning_rate: 2.5000e-04\n",
      "Epoch 13/25\n",
      "\u001B[1m190/190\u001B[0m \u001B[32m━━━━━━━━━━━━━━━━━━━━\u001B[0m\u001B[37m\u001B[0m \u001B[1m126s\u001B[0m 664ms/step - accuracy: 0.7505 - loss: 0.7250 - val_accuracy: 0.7989 - val_loss: 0.6357 - learning_rate: 2.5000e-04\n",
      "Epoch 14/25\n",
      "\u001B[1m190/190\u001B[0m \u001B[32m━━━━━━━━━━━━━━━━━━━━\u001B[0m\u001B[37m\u001B[0m \u001B[1m125s\u001B[0m 659ms/step - accuracy: 0.7638 - loss: 0.7062 - val_accuracy: 0.8011 - val_loss: 0.5822 - learning_rate: 2.5000e-04\n",
      "Epoch 15/25\n",
      "\u001B[1m190/190\u001B[0m \u001B[32m━━━━━━━━━━━━━━━━━━━━\u001B[0m\u001B[37m\u001B[0m \u001B[1m128s\u001B[0m 672ms/step - accuracy: 0.7585 - loss: 0.7018 - val_accuracy: 0.7400 - val_loss: 0.7401 - learning_rate: 2.5000e-04\n",
      "Epoch 16/25\n",
      "\u001B[1m190/190\u001B[0m \u001B[32m━━━━━━━━━━━━━━━━━━━━\u001B[0m\u001B[37m\u001B[0m \u001B[1m125s\u001B[0m 660ms/step - accuracy: 0.7342 - loss: 0.7290 - val_accuracy: 0.7789 - val_loss: 0.6613 - learning_rate: 2.5000e-04\n",
      "Epoch 17/25\n",
      "\u001B[1m190/190\u001B[0m \u001B[32m━━━━━━━━━━━━━━━━━━━━\u001B[0m\u001B[37m\u001B[0m \u001B[1m126s\u001B[0m 661ms/step - accuracy: 0.7534 - loss: 0.6763 - val_accuracy: 0.8147 - val_loss: 0.5957 - learning_rate: 1.2500e-04\n",
      "Epoch 18/25\n",
      "\u001B[1m190/190\u001B[0m \u001B[32m━━━━━━━━━━━━━━━━━━━━\u001B[0m\u001B[37m\u001B[0m \u001B[1m127s\u001B[0m 669ms/step - accuracy: 0.7549 - loss: 0.6895 - val_accuracy: 0.7958 - val_loss: 0.5924 - learning_rate: 1.2500e-04\n",
      "Epoch 19/25\n",
      "\u001B[1m190/190\u001B[0m \u001B[32m━━━━━━━━━━━━━━━━━━━━\u001B[0m\u001B[37m\u001B[0m \u001B[1m129s\u001B[0m 681ms/step - accuracy: 0.7653 - loss: 0.6846 - val_accuracy: 0.7832 - val_loss: 0.6071 - learning_rate: 6.2500e-05\n"
     ]
    }
   ],
   "source": [
    "\n",
    "data_augmentation = keras.Sequential(\n",
    "    [\n",
    "        layers.RandomFlip(\"horizontal\"),\n",
    "        layers.RandomRotation(0.10),\n",
    "        layers.RandomZoom(0.10),\n",
    "    ],\n",
    "    name=\"augment\",\n",
    ")\n",
    "\n",
    "def build_cnn(input_shape=(IMG_SIZE, IMG_SIZE, 3), num_classes=NUM_CLASSES):\n",
    "    inputs = keras.Input(shape=input_shape)\n",
    "    x = data_augmentation(inputs)\n",
    "    x = layers.Rescaling(1./255)(x)\n",
    "\n",
    "    \n",
    "    x = layers.Conv2D(32, 3, padding=\"same\", use_bias=False)(x)\n",
    "    x = layers.BatchNormalization()(x);\n",
    "    x = layers.ReLU()(x); \n",
    "    x = layers.MaxPooling2D()(x)\n",
    "\n",
    "    x = layers.Conv2D(64, 3, padding=\"same\", use_bias=False)(x)\n",
    "    x = layers.BatchNormalization()(x);\n",
    "    x = layers.ReLU()(x);\n",
    "    x = layers.MaxPooling2D()(x)\n",
    "\n",
    "    x = layers.Conv2D(128, 3, padding=\"same\", use_bias=False)(x)\n",
    "    x = layers.BatchNormalization()(x); \n",
    "    x = layers.ReLU()(x); \n",
    "    x = layers.MaxPooling2D()(x)\n",
    "\n",
    "    x = layers.GlobalAveragePooling2D()(x)\n",
    "    x = layers.Dropout(0.3)(x)\n",
    "\n",
    "    \n",
    "    x = layers.Dense(256, activation=\"relu\", name=\"embedding\")(x)\n",
    "    x = layers.Dropout(0.3)(x)\n",
    "\n",
    "    outputs = layers.Dense(num_classes, activation=\"softmax\", name=\"classifier\")(x)\n",
    "    return keras.Model(inputs, outputs, name=\"baseline_cnn\")\n",
    "\n",
    "cnn = build_cnn()\n",
    "cnn.compile(optimizer=keras.optimizers.Adam(1e-3),\n",
    "            loss=\"categorical_crossentropy\",\n",
    "            metrics=[\"accuracy\"])\n",
    "\n",
    "callbacks = [\n",
    "    keras.callbacks.EarlyStopping(monitor=\"val_loss\", patience=5, restore_best_weights=True),\n",
    "    keras.callbacks.ReduceLROnPlateau(monitor=\"val_loss\", factor=0.5, patience=2, min_lr=1e-5),\n",
    "]\n",
    "\n",
    "history = cnn.fit(train_ds, validation_data=val_ds, epochs=EPOCHS, callbacks=callbacks, verbose=1)"
   ]
  },
  {
   "cell_type": "code",
   "execution_count": 8,
   "id": "b04a4d3b",
   "metadata": {
    "ExecuteTime": {
     "end_time": "2025-08-23T22:08:51.799344900Z",
     "start_time": "2025-08-23T22:08:51.790163100Z"
    }
   },
   "outputs": [],
   "source": [
    "\n",
    "def numpy_Conversion(ds):\n",
    "    x_Values = []\n",
    "    y_Values = []\n",
    "\n",
    "    for x, y in ds:\n",
    "        x_Values.append(x.numpy())\n",
    "        y_Values.append(y.numpy())\n",
    "    \n",
    "    return np.concatenate(x_Values, 0), np.concatenate(y_Values, 0)\n",
    "\n",
    "def labels_and_Pred(model, ds):\n",
    "    y_Prob = model.predict(ds, verbose = 0)\n",
    "    _, y_T_OneHot = numpy_Conversion(ds)\n",
    "    y_T_Idx = np.argmax(y_T_OneHot, axis=1)\n",
    "    y_Pred_Idx = np.argmax(y_Prob, axis=1)\n",
    "    return y_T_Idx, y_Pred_Idx, y_Prob\n",
    "\n",
    "def extract_features(ds, feature_model):\n",
    "    features, labels = [], []\n",
    "    for x, y in ds:\n",
    "        z = feature_model.predict(x, verbose=0)\n",
    "        features.append(z)\n",
    "        labels.append(y.numpy())\n",
    "    X = np.concatenate(features, 0)\n",
    "    Y = np.concatenate(labels, 0)\n",
    "    y_Idx = np.argmax(Y, axis=1)\n",
    "    return X, y_Idx\n",
    "\n",
    "\n",
    "def micro_roc_auc(y_T_Idx, y_Prob,num_Classes):\n",
    "    y_T_Bin = label_binarize(y_T_Idx, classes=np.arange(num_Classes))\n",
    "    n, m, _ = roc_curve(y_T_Bin.ravel(), y_Prob.ravel())\n",
    "    return n, m, auc(n,m)\n"
   ]
  },
  {
   "cell_type": "code",
   "outputs": [
    {
     "data": {
      "text/plain": "\u001B[1mModel: \"baseline_cnn\"\u001B[0m\n",
      "text/html": "<pre style=\"white-space:pre;overflow-x:auto;line-height:normal;font-family:Menlo,'DejaVu Sans Mono',consolas,'Courier New',monospace\"><span style=\"font-weight: bold\">Model: \"baseline_cnn\"</span>\n</pre>\n"
     },
     "metadata": {},
     "output_type": "display_data"
    },
    {
     "data": {
      "text/plain": "┏━━━━━━━━━━━━━━━━━━━━━━━━━━━━━━━━━┳━━━━━━━━━━━━━━━━━━━━━━━━┳━━━━━━━━━━━━━━━┓\n┃\u001B[1m \u001B[0m\u001B[1mLayer (type)                   \u001B[0m\u001B[1m \u001B[0m┃\u001B[1m \u001B[0m\u001B[1mOutput Shape          \u001B[0m\u001B[1m \u001B[0m┃\u001B[1m \u001B[0m\u001B[1m      Param #\u001B[0m\u001B[1m \u001B[0m┃\n┡━━━━━━━━━━━━━━━━━━━━━━━━━━━━━━━━━╇━━━━━━━━━━━━━━━━━━━━━━━━╇━━━━━━━━━━━━━━━┩\n│ input_layer (\u001B[38;5;33mInputLayer\u001B[0m)        │ (\u001B[38;5;45mNone\u001B[0m, \u001B[38;5;34m256\u001B[0m, \u001B[38;5;34m256\u001B[0m, \u001B[38;5;34m3\u001B[0m)    │             \u001B[38;5;34m0\u001B[0m │\n├─────────────────────────────────┼────────────────────────┼───────────────┤\n│ augment (\u001B[38;5;33mSequential\u001B[0m)            │ (\u001B[38;5;45mNone\u001B[0m, \u001B[38;5;34m256\u001B[0m, \u001B[38;5;34m256\u001B[0m, \u001B[38;5;34m3\u001B[0m)    │             \u001B[38;5;34m0\u001B[0m │\n├─────────────────────────────────┼────────────────────────┼───────────────┤\n│ rescaling (\u001B[38;5;33mRescaling\u001B[0m)           │ (\u001B[38;5;45mNone\u001B[0m, \u001B[38;5;34m256\u001B[0m, \u001B[38;5;34m256\u001B[0m, \u001B[38;5;34m3\u001B[0m)    │             \u001B[38;5;34m0\u001B[0m │\n├─────────────────────────────────┼────────────────────────┼───────────────┤\n│ conv2d (\u001B[38;5;33mConv2D\u001B[0m)                 │ (\u001B[38;5;45mNone\u001B[0m, \u001B[38;5;34m256\u001B[0m, \u001B[38;5;34m256\u001B[0m, \u001B[38;5;34m32\u001B[0m)   │           \u001B[38;5;34m864\u001B[0m │\n├─────────────────────────────────┼────────────────────────┼───────────────┤\n│ batch_normalization             │ (\u001B[38;5;45mNone\u001B[0m, \u001B[38;5;34m256\u001B[0m, \u001B[38;5;34m256\u001B[0m, \u001B[38;5;34m32\u001B[0m)   │           \u001B[38;5;34m128\u001B[0m │\n│ (\u001B[38;5;33mBatchNormalization\u001B[0m)            │                        │               │\n├─────────────────────────────────┼────────────────────────┼───────────────┤\n│ re_lu (\u001B[38;5;33mReLU\u001B[0m)                    │ (\u001B[38;5;45mNone\u001B[0m, \u001B[38;5;34m256\u001B[0m, \u001B[38;5;34m256\u001B[0m, \u001B[38;5;34m32\u001B[0m)   │             \u001B[38;5;34m0\u001B[0m │\n├─────────────────────────────────┼────────────────────────┼───────────────┤\n│ max_pooling2d (\u001B[38;5;33mMaxPooling2D\u001B[0m)    │ (\u001B[38;5;45mNone\u001B[0m, \u001B[38;5;34m128\u001B[0m, \u001B[38;5;34m128\u001B[0m, \u001B[38;5;34m32\u001B[0m)   │             \u001B[38;5;34m0\u001B[0m │\n├─────────────────────────────────┼────────────────────────┼───────────────┤\n│ conv2d_1 (\u001B[38;5;33mConv2D\u001B[0m)               │ (\u001B[38;5;45mNone\u001B[0m, \u001B[38;5;34m128\u001B[0m, \u001B[38;5;34m128\u001B[0m, \u001B[38;5;34m64\u001B[0m)   │        \u001B[38;5;34m18,432\u001B[0m │\n├─────────────────────────────────┼────────────────────────┼───────────────┤\n│ batch_normalization_1           │ (\u001B[38;5;45mNone\u001B[0m, \u001B[38;5;34m128\u001B[0m, \u001B[38;5;34m128\u001B[0m, \u001B[38;5;34m64\u001B[0m)   │           \u001B[38;5;34m256\u001B[0m │\n│ (\u001B[38;5;33mBatchNormalization\u001B[0m)            │                        │               │\n├─────────────────────────────────┼────────────────────────┼───────────────┤\n│ re_lu_1 (\u001B[38;5;33mReLU\u001B[0m)                  │ (\u001B[38;5;45mNone\u001B[0m, \u001B[38;5;34m128\u001B[0m, \u001B[38;5;34m128\u001B[0m, \u001B[38;5;34m64\u001B[0m)   │             \u001B[38;5;34m0\u001B[0m │\n├─────────────────────────────────┼────────────────────────┼───────────────┤\n│ max_pooling2d_1 (\u001B[38;5;33mMaxPooling2D\u001B[0m)  │ (\u001B[38;5;45mNone\u001B[0m, \u001B[38;5;34m64\u001B[0m, \u001B[38;5;34m64\u001B[0m, \u001B[38;5;34m64\u001B[0m)     │             \u001B[38;5;34m0\u001B[0m │\n├─────────────────────────────────┼────────────────────────┼───────────────┤\n│ conv2d_2 (\u001B[38;5;33mConv2D\u001B[0m)               │ (\u001B[38;5;45mNone\u001B[0m, \u001B[38;5;34m64\u001B[0m, \u001B[38;5;34m64\u001B[0m, \u001B[38;5;34m128\u001B[0m)    │        \u001B[38;5;34m73,728\u001B[0m │\n├─────────────────────────────────┼────────────────────────┼───────────────┤\n│ batch_normalization_2           │ (\u001B[38;5;45mNone\u001B[0m, \u001B[38;5;34m64\u001B[0m, \u001B[38;5;34m64\u001B[0m, \u001B[38;5;34m128\u001B[0m)    │           \u001B[38;5;34m512\u001B[0m │\n│ (\u001B[38;5;33mBatchNormalization\u001B[0m)            │                        │               │\n├─────────────────────────────────┼────────────────────────┼───────────────┤\n│ re_lu_2 (\u001B[38;5;33mReLU\u001B[0m)                  │ (\u001B[38;5;45mNone\u001B[0m, \u001B[38;5;34m64\u001B[0m, \u001B[38;5;34m64\u001B[0m, \u001B[38;5;34m128\u001B[0m)    │             \u001B[38;5;34m0\u001B[0m │\n├─────────────────────────────────┼────────────────────────┼───────────────┤\n│ max_pooling2d_2 (\u001B[38;5;33mMaxPooling2D\u001B[0m)  │ (\u001B[38;5;45mNone\u001B[0m, \u001B[38;5;34m32\u001B[0m, \u001B[38;5;34m32\u001B[0m, \u001B[38;5;34m128\u001B[0m)    │             \u001B[38;5;34m0\u001B[0m │\n├─────────────────────────────────┼────────────────────────┼───────────────┤\n│ global_average_pooling2d        │ (\u001B[38;5;45mNone\u001B[0m, \u001B[38;5;34m128\u001B[0m)            │             \u001B[38;5;34m0\u001B[0m │\n│ (\u001B[38;5;33mGlobalAveragePooling2D\u001B[0m)        │                        │               │\n├─────────────────────────────────┼────────────────────────┼───────────────┤\n│ dropout (\u001B[38;5;33mDropout\u001B[0m)               │ (\u001B[38;5;45mNone\u001B[0m, \u001B[38;5;34m128\u001B[0m)            │             \u001B[38;5;34m0\u001B[0m │\n├─────────────────────────────────┼────────────────────────┼───────────────┤\n│ embedding (\u001B[38;5;33mDense\u001B[0m)               │ (\u001B[38;5;45mNone\u001B[0m, \u001B[38;5;34m256\u001B[0m)            │        \u001B[38;5;34m33,024\u001B[0m │\n├─────────────────────────────────┼────────────────────────┼───────────────┤\n│ dropout_1 (\u001B[38;5;33mDropout\u001B[0m)             │ (\u001B[38;5;45mNone\u001B[0m, \u001B[38;5;34m256\u001B[0m)            │             \u001B[38;5;34m0\u001B[0m │\n├─────────────────────────────────┼────────────────────────┼───────────────┤\n│ classifier (\u001B[38;5;33mDense\u001B[0m)              │ (\u001B[38;5;45mNone\u001B[0m, \u001B[38;5;34m12\u001B[0m)             │         \u001B[38;5;34m3,084\u001B[0m │\n└─────────────────────────────────┴────────────────────────┴───────────────┘\n",
      "text/html": "<pre style=\"white-space:pre;overflow-x:auto;line-height:normal;font-family:Menlo,'DejaVu Sans Mono',consolas,'Courier New',monospace\">┏━━━━━━━━━━━━━━━━━━━━━━━━━━━━━━━━━┳━━━━━━━━━━━━━━━━━━━━━━━━┳━━━━━━━━━━━━━━━┓\n┃<span style=\"font-weight: bold\"> Layer (type)                    </span>┃<span style=\"font-weight: bold\"> Output Shape           </span>┃<span style=\"font-weight: bold\">       Param # </span>┃\n┡━━━━━━━━━━━━━━━━━━━━━━━━━━━━━━━━━╇━━━━━━━━━━━━━━━━━━━━━━━━╇━━━━━━━━━━━━━━━┩\n│ input_layer (<span style=\"color: #0087ff; text-decoration-color: #0087ff\">InputLayer</span>)        │ (<span style=\"color: #00d7ff; text-decoration-color: #00d7ff\">None</span>, <span style=\"color: #00af00; text-decoration-color: #00af00\">256</span>, <span style=\"color: #00af00; text-decoration-color: #00af00\">256</span>, <span style=\"color: #00af00; text-decoration-color: #00af00\">3</span>)    │             <span style=\"color: #00af00; text-decoration-color: #00af00\">0</span> │\n├─────────────────────────────────┼────────────────────────┼───────────────┤\n│ augment (<span style=\"color: #0087ff; text-decoration-color: #0087ff\">Sequential</span>)            │ (<span style=\"color: #00d7ff; text-decoration-color: #00d7ff\">None</span>, <span style=\"color: #00af00; text-decoration-color: #00af00\">256</span>, <span style=\"color: #00af00; text-decoration-color: #00af00\">256</span>, <span style=\"color: #00af00; text-decoration-color: #00af00\">3</span>)    │             <span style=\"color: #00af00; text-decoration-color: #00af00\">0</span> │\n├─────────────────────────────────┼────────────────────────┼───────────────┤\n│ rescaling (<span style=\"color: #0087ff; text-decoration-color: #0087ff\">Rescaling</span>)           │ (<span style=\"color: #00d7ff; text-decoration-color: #00d7ff\">None</span>, <span style=\"color: #00af00; text-decoration-color: #00af00\">256</span>, <span style=\"color: #00af00; text-decoration-color: #00af00\">256</span>, <span style=\"color: #00af00; text-decoration-color: #00af00\">3</span>)    │             <span style=\"color: #00af00; text-decoration-color: #00af00\">0</span> │\n├─────────────────────────────────┼────────────────────────┼───────────────┤\n│ conv2d (<span style=\"color: #0087ff; text-decoration-color: #0087ff\">Conv2D</span>)                 │ (<span style=\"color: #00d7ff; text-decoration-color: #00d7ff\">None</span>, <span style=\"color: #00af00; text-decoration-color: #00af00\">256</span>, <span style=\"color: #00af00; text-decoration-color: #00af00\">256</span>, <span style=\"color: #00af00; text-decoration-color: #00af00\">32</span>)   │           <span style=\"color: #00af00; text-decoration-color: #00af00\">864</span> │\n├─────────────────────────────────┼────────────────────────┼───────────────┤\n│ batch_normalization             │ (<span style=\"color: #00d7ff; text-decoration-color: #00d7ff\">None</span>, <span style=\"color: #00af00; text-decoration-color: #00af00\">256</span>, <span style=\"color: #00af00; text-decoration-color: #00af00\">256</span>, <span style=\"color: #00af00; text-decoration-color: #00af00\">32</span>)   │           <span style=\"color: #00af00; text-decoration-color: #00af00\">128</span> │\n│ (<span style=\"color: #0087ff; text-decoration-color: #0087ff\">BatchNormalization</span>)            │                        │               │\n├─────────────────────────────────┼────────────────────────┼───────────────┤\n│ re_lu (<span style=\"color: #0087ff; text-decoration-color: #0087ff\">ReLU</span>)                    │ (<span style=\"color: #00d7ff; text-decoration-color: #00d7ff\">None</span>, <span style=\"color: #00af00; text-decoration-color: #00af00\">256</span>, <span style=\"color: #00af00; text-decoration-color: #00af00\">256</span>, <span style=\"color: #00af00; text-decoration-color: #00af00\">32</span>)   │             <span style=\"color: #00af00; text-decoration-color: #00af00\">0</span> │\n├─────────────────────────────────┼────────────────────────┼───────────────┤\n│ max_pooling2d (<span style=\"color: #0087ff; text-decoration-color: #0087ff\">MaxPooling2D</span>)    │ (<span style=\"color: #00d7ff; text-decoration-color: #00d7ff\">None</span>, <span style=\"color: #00af00; text-decoration-color: #00af00\">128</span>, <span style=\"color: #00af00; text-decoration-color: #00af00\">128</span>, <span style=\"color: #00af00; text-decoration-color: #00af00\">32</span>)   │             <span style=\"color: #00af00; text-decoration-color: #00af00\">0</span> │\n├─────────────────────────────────┼────────────────────────┼───────────────┤\n│ conv2d_1 (<span style=\"color: #0087ff; text-decoration-color: #0087ff\">Conv2D</span>)               │ (<span style=\"color: #00d7ff; text-decoration-color: #00d7ff\">None</span>, <span style=\"color: #00af00; text-decoration-color: #00af00\">128</span>, <span style=\"color: #00af00; text-decoration-color: #00af00\">128</span>, <span style=\"color: #00af00; text-decoration-color: #00af00\">64</span>)   │        <span style=\"color: #00af00; text-decoration-color: #00af00\">18,432</span> │\n├─────────────────────────────────┼────────────────────────┼───────────────┤\n│ batch_normalization_1           │ (<span style=\"color: #00d7ff; text-decoration-color: #00d7ff\">None</span>, <span style=\"color: #00af00; text-decoration-color: #00af00\">128</span>, <span style=\"color: #00af00; text-decoration-color: #00af00\">128</span>, <span style=\"color: #00af00; text-decoration-color: #00af00\">64</span>)   │           <span style=\"color: #00af00; text-decoration-color: #00af00\">256</span> │\n│ (<span style=\"color: #0087ff; text-decoration-color: #0087ff\">BatchNormalization</span>)            │                        │               │\n├─────────────────────────────────┼────────────────────────┼───────────────┤\n│ re_lu_1 (<span style=\"color: #0087ff; text-decoration-color: #0087ff\">ReLU</span>)                  │ (<span style=\"color: #00d7ff; text-decoration-color: #00d7ff\">None</span>, <span style=\"color: #00af00; text-decoration-color: #00af00\">128</span>, <span style=\"color: #00af00; text-decoration-color: #00af00\">128</span>, <span style=\"color: #00af00; text-decoration-color: #00af00\">64</span>)   │             <span style=\"color: #00af00; text-decoration-color: #00af00\">0</span> │\n├─────────────────────────────────┼────────────────────────┼───────────────┤\n│ max_pooling2d_1 (<span style=\"color: #0087ff; text-decoration-color: #0087ff\">MaxPooling2D</span>)  │ (<span style=\"color: #00d7ff; text-decoration-color: #00d7ff\">None</span>, <span style=\"color: #00af00; text-decoration-color: #00af00\">64</span>, <span style=\"color: #00af00; text-decoration-color: #00af00\">64</span>, <span style=\"color: #00af00; text-decoration-color: #00af00\">64</span>)     │             <span style=\"color: #00af00; text-decoration-color: #00af00\">0</span> │\n├─────────────────────────────────┼────────────────────────┼───────────────┤\n│ conv2d_2 (<span style=\"color: #0087ff; text-decoration-color: #0087ff\">Conv2D</span>)               │ (<span style=\"color: #00d7ff; text-decoration-color: #00d7ff\">None</span>, <span style=\"color: #00af00; text-decoration-color: #00af00\">64</span>, <span style=\"color: #00af00; text-decoration-color: #00af00\">64</span>, <span style=\"color: #00af00; text-decoration-color: #00af00\">128</span>)    │        <span style=\"color: #00af00; text-decoration-color: #00af00\">73,728</span> │\n├─────────────────────────────────┼────────────────────────┼───────────────┤\n│ batch_normalization_2           │ (<span style=\"color: #00d7ff; text-decoration-color: #00d7ff\">None</span>, <span style=\"color: #00af00; text-decoration-color: #00af00\">64</span>, <span style=\"color: #00af00; text-decoration-color: #00af00\">64</span>, <span style=\"color: #00af00; text-decoration-color: #00af00\">128</span>)    │           <span style=\"color: #00af00; text-decoration-color: #00af00\">512</span> │\n│ (<span style=\"color: #0087ff; text-decoration-color: #0087ff\">BatchNormalization</span>)            │                        │               │\n├─────────────────────────────────┼────────────────────────┼───────────────┤\n│ re_lu_2 (<span style=\"color: #0087ff; text-decoration-color: #0087ff\">ReLU</span>)                  │ (<span style=\"color: #00d7ff; text-decoration-color: #00d7ff\">None</span>, <span style=\"color: #00af00; text-decoration-color: #00af00\">64</span>, <span style=\"color: #00af00; text-decoration-color: #00af00\">64</span>, <span style=\"color: #00af00; text-decoration-color: #00af00\">128</span>)    │             <span style=\"color: #00af00; text-decoration-color: #00af00\">0</span> │\n├─────────────────────────────────┼────────────────────────┼───────────────┤\n│ max_pooling2d_2 (<span style=\"color: #0087ff; text-decoration-color: #0087ff\">MaxPooling2D</span>)  │ (<span style=\"color: #00d7ff; text-decoration-color: #00d7ff\">None</span>, <span style=\"color: #00af00; text-decoration-color: #00af00\">32</span>, <span style=\"color: #00af00; text-decoration-color: #00af00\">32</span>, <span style=\"color: #00af00; text-decoration-color: #00af00\">128</span>)    │             <span style=\"color: #00af00; text-decoration-color: #00af00\">0</span> │\n├─────────────────────────────────┼────────────────────────┼───────────────┤\n│ global_average_pooling2d        │ (<span style=\"color: #00d7ff; text-decoration-color: #00d7ff\">None</span>, <span style=\"color: #00af00; text-decoration-color: #00af00\">128</span>)            │             <span style=\"color: #00af00; text-decoration-color: #00af00\">0</span> │\n│ (<span style=\"color: #0087ff; text-decoration-color: #0087ff\">GlobalAveragePooling2D</span>)        │                        │               │\n├─────────────────────────────────┼────────────────────────┼───────────────┤\n│ dropout (<span style=\"color: #0087ff; text-decoration-color: #0087ff\">Dropout</span>)               │ (<span style=\"color: #00d7ff; text-decoration-color: #00d7ff\">None</span>, <span style=\"color: #00af00; text-decoration-color: #00af00\">128</span>)            │             <span style=\"color: #00af00; text-decoration-color: #00af00\">0</span> │\n├─────────────────────────────────┼────────────────────────┼───────────────┤\n│ embedding (<span style=\"color: #0087ff; text-decoration-color: #0087ff\">Dense</span>)               │ (<span style=\"color: #00d7ff; text-decoration-color: #00d7ff\">None</span>, <span style=\"color: #00af00; text-decoration-color: #00af00\">256</span>)            │        <span style=\"color: #00af00; text-decoration-color: #00af00\">33,024</span> │\n├─────────────────────────────────┼────────────────────────┼───────────────┤\n│ dropout_1 (<span style=\"color: #0087ff; text-decoration-color: #0087ff\">Dropout</span>)             │ (<span style=\"color: #00d7ff; text-decoration-color: #00d7ff\">None</span>, <span style=\"color: #00af00; text-decoration-color: #00af00\">256</span>)            │             <span style=\"color: #00af00; text-decoration-color: #00af00\">0</span> │\n├─────────────────────────────────┼────────────────────────┼───────────────┤\n│ classifier (<span style=\"color: #0087ff; text-decoration-color: #0087ff\">Dense</span>)              │ (<span style=\"color: #00d7ff; text-decoration-color: #00d7ff\">None</span>, <span style=\"color: #00af00; text-decoration-color: #00af00\">12</span>)             │         <span style=\"color: #00af00; text-decoration-color: #00af00\">3,084</span> │\n└─────────────────────────────────┴────────────────────────┴───────────────┘\n</pre>\n"
     },
     "metadata": {},
     "output_type": "display_data"
    },
    {
     "data": {
      "text/plain": "\u001B[1m Total params: \u001B[0m\u001B[38;5;34m389,190\u001B[0m (1.48 MB)\n",
      "text/html": "<pre style=\"white-space:pre;overflow-x:auto;line-height:normal;font-family:Menlo,'DejaVu Sans Mono',consolas,'Courier New',monospace\"><span style=\"font-weight: bold\"> Total params: </span><span style=\"color: #00af00; text-decoration-color: #00af00\">389,190</span> (1.48 MB)\n</pre>\n"
     },
     "metadata": {},
     "output_type": "display_data"
    },
    {
     "data": {
      "text/plain": "\u001B[1m Trainable params: \u001B[0m\u001B[38;5;34m129,580\u001B[0m (506.17 KB)\n",
      "text/html": "<pre style=\"white-space:pre;overflow-x:auto;line-height:normal;font-family:Menlo,'DejaVu Sans Mono',consolas,'Courier New',monospace\"><span style=\"font-weight: bold\"> Trainable params: </span><span style=\"color: #00af00; text-decoration-color: #00af00\">129,580</span> (506.17 KB)\n</pre>\n"
     },
     "metadata": {},
     "output_type": "display_data"
    },
    {
     "data": {
      "text/plain": "\u001B[1m Non-trainable params: \u001B[0m\u001B[38;5;34m448\u001B[0m (1.75 KB)\n",
      "text/html": "<pre style=\"white-space:pre;overflow-x:auto;line-height:normal;font-family:Menlo,'DejaVu Sans Mono',consolas,'Courier New',monospace\"><span style=\"font-weight: bold\"> Non-trainable params: </span><span style=\"color: #00af00; text-decoration-color: #00af00\">448</span> (1.75 KB)\n</pre>\n"
     },
     "metadata": {},
     "output_type": "display_data"
    },
    {
     "data": {
      "text/plain": "\u001B[1m Optimizer params: \u001B[0m\u001B[38;5;34m259,162\u001B[0m (1012.36 KB)\n",
      "text/html": "<pre style=\"white-space:pre;overflow-x:auto;line-height:normal;font-family:Menlo,'DejaVu Sans Mono',consolas,'Courier New',monospace\"><span style=\"font-weight: bold\"> Optimizer params: </span><span style=\"color: #00af00; text-decoration-color: #00af00\">259,162</span> (1012.36 KB)\n</pre>\n"
     },
     "metadata": {},
     "output_type": "display_data"
    }
   ],
   "source": [
    "cnn.summary()\n",
    "cnn.save_weights(\"cnn_model.weights.h5\")"
   ],
   "metadata": {
    "collapsed": false,
    "ExecuteTime": {
     "end_time": "2025-08-23T22:08:51.947942100Z",
     "start_time": "2025-08-23T22:08:51.801542300Z"
    }
   },
   "id": "50261c17ca5ed987",
   "execution_count": 9
  },
  {
   "cell_type": "code",
   "execution_count": 10,
   "id": "f21c952a",
   "metadata": {
    "ExecuteTime": {
     "end_time": "2025-08-23T22:10:01.177596300Z",
     "start_time": "2025-08-23T22:08:51.950033800Z"
    }
   },
   "outputs": [
    {
     "name": "stdout",
     "output_type": "stream",
     "text": [
      "Baseline CNN micro F1: 0.8011\n",
      "CNN & SVM micro F1: 0.8947\n",
      "CNN & XGBoost                 micro F1: 0.9832\n"
     ]
    }
   ],
   "source": [
    "y_T_Val, y_Pred_Val_Cnn, y_Prob_Val_Cnn = labels_and_Pred(cnn, val_ds)\n",
    "f1_Micro_Cnn_Val = f1_score(y_T_Val, y_Pred_Val_Cnn, average=\"micro\")\n",
    "\n",
    "\n",
    "feature_extractor = keras.Model(inputs=cnn.input, outputs=cnn.get_layer(\"embedding\").output)\n",
    "X_tr, y_tr = extract_features(train_ds, feature_extractor)\n",
    "X_val, y_val = extract_features(val_ds, feature_extractor)\n",
    "\n",
    "\n",
    "svm_clf = make_pipeline(StandardScaler(), SVC(kernel=\"rbf\", probability=True, random_state=SEED))\n",
    "svm_clf.fit(X_tr, y_tr)\n",
    "y_pred_val_svm = svm_clf.predict(X_val)\n",
    "y_prob_val_svm = svm_clf.predict_proba(X_val)\n",
    "f1_micro_svm_val = f1_score(y_val, y_pred_val_svm, average=\"micro\")\n",
    "\n",
    "\n",
    "if XGB_AVAILABLE:\n",
    "    xgb_clf = XGBClassifier(\n",
    "        n_estimators=300, max_depth=6, learning_rate=0.05,\n",
    "        subsample=0.8, colsample_bytree=0.8,\n",
    "        objective=\"multi:softprob\", num_class=NUM_CLASSES,\n",
    "        eval_metric=\"mlogloss\", tree_method=\"hist\", random_state=SEED\n",
    "    )\n",
    "else:\n",
    "    xgb_clf = GradientBoostingClassifier(random_state=SEED)\n",
    "\n",
    "xgb_clf.fit(X_tr, y_tr)\n",
    "y_pred_val_xgb = xgb_clf.predict(X_val)\n",
    "y_prob_val_xgb = xgb_clf.predict_proba(X_val)\n",
    "f1_micro_xgb_val = f1_score(y_val, y_pred_val_xgb, average=\"micro\")\n",
    "xgb_name = \"XGBoost\" if XGB_AVAILABLE else \"GradientBoosting (fallback)\"\n",
    "\n",
    "print(f\"Baseline CNN micro F1: {f1_Micro_Cnn_Val:.4f}\")\n",
    "print(f\"CNN & SVM micro F1: {f1_micro_svm_val:.4f}\")\n",
    "print(f\"CNN & {xgb_name:23} micro F1: {f1_micro_xgb_val:.4f}\")\n"
   ]
  },
  {
   "cell_type": "code",
   "execution_count": 11,
   "id": "cdcb9892",
   "metadata": {
    "ExecuteTime": {
     "end_time": "2025-08-23T22:10:01.445463900Z",
     "start_time": "2025-08-23T22:10:01.181685800Z"
    }
   },
   "outputs": [
    {
     "data": {
      "text/plain": "<Figure size 720x600 with 1 Axes>",
      "image/png": "[encoded data removed]"
     },
     "metadata": {},
     "output_type": "display_data"
    },
    {
     "data": {
      "text/plain": "           Model  F1_micro VALUE  ROC_AUC_micro VALUE\n2  CNN & XGBoost        0.983158             0.999045\n1      CNN & SVM        0.894737             0.996988\n0   Baseline CNN        0.801053             0.984265",
      "text/html": "<div>\n<style scoped>\n    .dataframe tbody tr th:only-of-type {\n        vertical-align: middle;\n    }\n\n    .dataframe tbody tr th {\n        vertical-align: top;\n    }\n\n    .dataframe thead th {\n        text-align: right;\n    }\n</style>\n<table border=\"1\" class=\"dataframe\">\n  <thead>\n    <tr style=\"text-align: right;\">\n      <th></th>\n      <th>Model</th>\n      <th>F1_micro VALUE</th>\n      <th>ROC_AUC_micro VALUE</th>\n    </tr>\n  </thead>\n  <tbody>\n    <tr>\n      <th>2</th>\n      <td>CNN &amp; XGBoost</td>\n      <td>0.983158</td>\n      <td>0.999045</td>\n    </tr>\n    <tr>\n      <th>1</th>\n      <td>CNN &amp; SVM</td>\n      <td>0.894737</td>\n      <td>0.996988</td>\n    </tr>\n    <tr>\n      <th>0</th>\n      <td>Baseline CNN</td>\n      <td>0.801053</td>\n      <td>0.984265</td>\n    </tr>\n  </tbody>\n</table>\n</div>"
     },
     "metadata": {},
     "output_type": "display_data"
    }
   ],
   "source": [
    "\n",
    "fpr_cnn_v, tpr_cnn_v, auc_cnn_v = micro_roc_auc(y_T_Val, y_Prob_Val_Cnn, NUM_CLASSES)\n",
    "fpr_svm_v, tpr_svm_v, auc_svm_v = micro_roc_auc(y_val, y_prob_val_svm, NUM_CLASSES)\n",
    "fpr_xgb_v, tpr_xgb_v, auc_xgb_v = micro_roc_auc(y_val, y_prob_val_xgb, NUM_CLASSES)\n",
    "\n",
    "plt.figure(figsize=(7.2,6))\n",
    "plt.plot(fpr_cnn_v, tpr_cnn_v, label=f\"Baseline CNN (AUC={auc_cnn_v:.3f})\")\n",
    "plt.plot(fpr_svm_v, tpr_svm_v, label=f\"CNN + SVM (AUC={auc_svm_v:.3f})\")\n",
    "plt.plot(fpr_xgb_v, tpr_xgb_v, label=f\"CNN + {xgb_name} (AUC={auc_xgb_v:.3f})\")\n",
    "# plt.plot([0,1],[0,1],'--', linewidth=1)\n",
    "plt.xlabel(\"False Positive Rate\"); plt.ylabel(\"True Positive Rate\")\n",
    "plt.title(\"Validation — Micro-averaged ROC (multi-class)\")\n",
    "plt.legend(loc=\"lower right\"); plt.grid(True, linestyle=\"--\", alpha=0.4)\n",
    "plt.show()\n",
    "\n",
    "display(pd.DataFrame({\n",
    "    \"Model\": [\"Baseline CNN\", \"CNN & SVM\", f\"CNN & {xgb_name}\"],\n",
    "    \"F1_micro VALUE\": [f1_Micro_Cnn_Val, f1_micro_svm_val, f1_micro_xgb_val],\n",
    "    \"ROC_AUC_micro VALUE\": [auc_cnn_v, auc_svm_v, auc_xgb_v],\n",
    "}).sort_values(\"F1_micro VALUE\", ascending=False))\n"
   ]
  },
  {
   "cell_type": "markdown",
   "id": "5102bd13",
   "metadata": {},
   "source": [
    "# Testing the Prediction on the test data set (unlabeled)"
   ]
  },
  {
   "cell_type": "code",
   "execution_count": 12,
   "id": "a78acaf0",
   "metadata": {
    "ExecuteTime": {
     "end_time": "2025-08-23T22:10:14.270208800Z",
     "start_time": "2025-08-23T22:10:01.445463900Z"
    }
   },
   "outputs": [
    {
     "name": "stdout",
     "output_type": "stream",
     "text": [
      "\n",
      "Predictions generated for 794 images in ./test\n"
     ]
    },
    {
     "data": {
      "text/plain": "              file                   CNN_pred  CNN_conf  \\\n0    0021e90e4.png  Small-flowered Cranesbill  0.804738   \n1    003d61042.png                    Fat Hen  0.915945   \n2    007b3da8b.png                   Cleavers  0.345865   \n3    0086a6340.png           Common Chickweed  0.986762   \n4    00c47e980.png                 Sugar beet  0.699332   \n..             ...                        ...       ...   \n789  fea355851.png           Loose Silky-bent  0.883160   \n790  fea3da57c.png                 Sugar beet  0.920001   \n791  fef2ade8c.png                 Sugar beet  0.855534   \n792  ff65bc002.png                   Charlock  0.862694   \n793  ffc6f8527.png               Common wheat  0.883586   \n\n                      SVM_pred  SVM_conf               XGBoost_pred  \\\n0    Small-flowered Cranesbill  0.980326  Small-flowered Cranesbill   \n1                      Fat Hen  0.973131                    Fat Hen   \n2                   Sugar beet  0.558493                 Sugar beet   \n3             Common Chickweed  0.980906           Common Chickweed   \n4                   Sugar beet  0.920762                 Sugar beet   \n..                         ...       ...                        ...   \n789           Loose Silky-bent  0.942476           Loose Silky-bent   \n790                 Sugar beet  0.981073                 Sugar beet   \n791                 Sugar beet  0.970390                 Sugar beet   \n792                   Charlock  0.993460                   Charlock   \n793               Common wheat  0.974072               Common wheat   \n\n     XGBoost_conf  \n0        0.998453  \n1        0.999081  \n2        0.902264  \n3        0.999611  \n4        0.997244  \n..            ...  \n789      0.999273  \n790      0.998965  \n791      0.998302  \n792      0.998824  \n793      0.990353  \n\n[794 rows x 7 columns]",
      "text/html": "<div>\n<style scoped>\n    .dataframe tbody tr th:only-of-type {\n        vertical-align: middle;\n    }\n\n    .dataframe tbody tr th {\n        vertical-align: top;\n    }\n\n    .dataframe thead th {\n        text-align: right;\n    }\n</style>\n<table border=\"1\" class=\"dataframe\">\n  <thead>\n    <tr style=\"text-align: right;\">\n      <th></th>\n      <th>file</th>\n      <th>CNN_pred</th>\n      <th>CNN_conf</th>\n      <th>SVM_pred</th>\n      <th>SVM_conf</th>\n      <th>XGBoost_pred</th>\n      <th>XGBoost_conf</th>\n    </tr>\n  </thead>\n  <tbody>\n    <tr>\n      <th>0</th>\n      <td>0021e90e4.png</td>\n      <td>Small-flowered Cranesbill</td>\n      <td>0.804738</td>\n      <td>Small-flowered Cranesbill</td>\n      <td>0.980326</td>\n      <td>Small-flowered Cranesbill</td>\n      <td>0.998453</td>\n    </tr>\n    <tr>\n      <th>1</th>\n      <td>003d61042.png</td>\n      <td>Fat Hen</td>\n      <td>0.915945</td>\n      <td>Fat Hen</td>\n      <td>0.973131</td>\n      <td>Fat Hen</td>\n      <td>0.999081</td>\n    </tr>\n    <tr>\n      <th>2</th>\n      <td>007b3da8b.png</td>\n      <td>Cleavers</td>\n      <td>0.345865</td>\n      <td>Sugar beet</td>\n      <td>0.558493</td>\n      <td>Sugar beet</td>\n      <td>0.902264</td>\n    </tr>\n    <tr>\n      <th>3</th>\n      <td>0086a6340.png</td>\n      <td>Common Chickweed</td>\n      <td>0.986762</td>\n      <td>Common Chickweed</td>\n      <td>0.980906</td>\n      <td>Common Chickweed</td>\n      <td>0.999611</td>\n    </tr>\n    <tr>\n      <th>4</th>\n      <td>00c47e980.png</td>\n      <td>Sugar beet</td>\n      <td>0.699332</td>\n      <td>Sugar beet</td>\n      <td>0.920762</td>\n      <td>Sugar beet</td>\n      <td>0.997244</td>\n    </tr>\n    <tr>\n      <th>...</th>\n      <td>...</td>\n      <td>...</td>\n      <td>...</td>\n      <td>...</td>\n      <td>...</td>\n      <td>...</td>\n      <td>...</td>\n    </tr>\n    <tr>\n      <th>789</th>\n      <td>fea355851.png</td>\n      <td>Loose Silky-bent</td>\n      <td>0.883160</td>\n      <td>Loose Silky-bent</td>\n      <td>0.942476</td>\n      <td>Loose Silky-bent</td>\n      <td>0.999273</td>\n    </tr>\n    <tr>\n      <th>790</th>\n      <td>fea3da57c.png</td>\n      <td>Sugar beet</td>\n      <td>0.920001</td>\n      <td>Sugar beet</td>\n      <td>0.981073</td>\n      <td>Sugar beet</td>\n      <td>0.998965</td>\n    </tr>\n    <tr>\n      <th>791</th>\n      <td>fef2ade8c.png</td>\n      <td>Sugar beet</td>\n      <td>0.855534</td>\n      <td>Sugar beet</td>\n      <td>0.970390</td>\n      <td>Sugar beet</td>\n      <td>0.998302</td>\n    </tr>\n    <tr>\n      <th>792</th>\n      <td>ff65bc002.png</td>\n      <td>Charlock</td>\n      <td>0.862694</td>\n      <td>Charlock</td>\n      <td>0.993460</td>\n      <td>Charlock</td>\n      <td>0.998824</td>\n    </tr>\n    <tr>\n      <th>793</th>\n      <td>ffc6f8527.png</td>\n      <td>Common wheat</td>\n      <td>0.883586</td>\n      <td>Common wheat</td>\n      <td>0.974072</td>\n      <td>Common wheat</td>\n      <td>0.990353</td>\n    </tr>\n  </tbody>\n</table>\n<p>794 rows × 7 columns</p>\n</div>"
     },
     "metadata": {},
     "output_type": "display_data"
    }
   ],
   "source": [
    "def load_unlabeled_images(folder: Path, img_size: int):\n",
    "    files, imgs = [], []\n",
    "    for p in sorted(folder.rglob(\"*.png\")):\n",
    "        if p.is_file():\n",
    "            try:\n",
    "                img = keras.utils.load_img(p, target_size=(img_size, img_size))\n",
    "                arr = keras.utils.img_to_array(img)\n",
    "                imgs.append(arr)\n",
    "                files.append(p.name)\n",
    "            except Exception as e:\n",
    "                print(f\"Skipping {p}: {e}\")\n",
    "    if not imgs:\n",
    "        raise RuntimeError(f\"No images found in {folder.resolve()}\")\n",
    "    return files, np.stack(imgs, 0).astype(\"float32\")\n",
    "\n",
    "TEST_DIR_PATH = Path(TEST_DIR)\n",
    "files_test, Xtest = load_unlabeled_images(TEST_DIR_PATH, IMG_SIZE)\n",
    "ds_unlab = tf.data.Dataset.from_tensor_slices(Xtest).batch(BATCH_SIZE).prefetch(AUTOTUNE)\n",
    "\n",
    "prob_cnn_t = cnn.predict(ds_unlab, verbose=0)\n",
    "pred_cnn_t = prob_cnn_t.argmax(1)\n",
    "top_cnn_t = prob_cnn_t.max(1)\n",
    "\n",
    "Ztest = feature_extractor.predict(ds_unlab, verbose=0)\n",
    "\n",
    "prob_svm_t = svm_clf.predict_proba(Ztest)\n",
    "pred_svm_t = prob_svm_t.argmax(1)\n",
    "top_svm_t = prob_svm_t.max(1)\n",
    "\n",
    "prob_xgb_t = xgb_clf.predict_proba(Ztest)\n",
    "pred_xgb_t = prob_xgb_t.argmax(1)\n",
    "top_xgb_t = prob_xgb_t.max(1)\n",
    "\n",
    "model_tag = \"XGBoost\" if XGB_AVAILABLE else \"GradientBoosting\"\n",
    "pred_df = pd.DataFrame({\n",
    "    \"file\": files_test,\n",
    "    \"CNN_pred\": [CLASS_NAMES[i] for i in pred_cnn_t],\n",
    "    \"CNN_conf\": top_cnn_t,\n",
    "    \"SVM_pred\": [CLASS_NAMES[i] for i in pred_svm_t],\n",
    "    \"SVM_conf\": top_svm_t,\n",
    "    f\"{model_tag}_pred\": [CLASS_NAMES[i] for i in pred_xgb_t],\n",
    "    f\"{model_tag}_conf\": top_xgb_t,\n",
    "}).sort_values(\"file\").reset_index(drop=True)\n",
    "\n",
    "\n",
    "print(f\"\\nPredictions generated for {len(files_test)} images in ./test\")\n",
    "display(pred_df)\n"
   ]
  },
  {
   "cell_type": "code",
   "execution_count": 13,
   "id": "c4d5a211",
   "metadata": {
    "ExecuteTime": {
     "end_time": "2025-08-23T22:10:14.305986300Z",
     "start_time": "2025-08-23T22:10:14.270208800Z"
    }
   },
   "outputs": [
    {
     "data": {
      "text/plain": "         CNN_conf    SVM_conf  XGBoost_conf\ncount  794.000000  794.000000    794.000000\nmean     0.750004    0.837988      0.923674\nstd      0.181952    0.167455      0.136748\nmin      0.255962    0.266627      0.271179\n25%      0.608294    0.742173      0.914915\n50%      0.792142    0.908509      0.993782\n75%      0.903476    0.971582      0.998574\nmax      0.999220    0.996200      0.999780",
      "text/html": "<div>\n<style scoped>\n    .dataframe tbody tr th:only-of-type {\n        vertical-align: middle;\n    }\n\n    .dataframe tbody tr th {\n        vertical-align: top;\n    }\n\n    .dataframe thead th {\n        text-align: right;\n    }\n</style>\n<table border=\"1\" class=\"dataframe\">\n  <thead>\n    <tr style=\"text-align: right;\">\n      <th></th>\n      <th>CNN_conf</th>\n      <th>SVM_conf</th>\n      <th>XGBoost_conf</th>\n    </tr>\n  </thead>\n  <tbody>\n    <tr>\n      <th>count</th>\n      <td>794.000000</td>\n      <td>794.000000</td>\n      <td>794.000000</td>\n    </tr>\n    <tr>\n      <th>mean</th>\n      <td>0.750004</td>\n      <td>0.837988</td>\n      <td>0.923674</td>\n    </tr>\n    <tr>\n      <th>std</th>\n      <td>0.181952</td>\n      <td>0.167455</td>\n      <td>0.136748</td>\n    </tr>\n    <tr>\n      <th>min</th>\n      <td>0.255962</td>\n      <td>0.266627</td>\n      <td>0.271179</td>\n    </tr>\n    <tr>\n      <th>25%</th>\n      <td>0.608294</td>\n      <td>0.742173</td>\n      <td>0.914915</td>\n    </tr>\n    <tr>\n      <th>50%</th>\n      <td>0.792142</td>\n      <td>0.908509</td>\n      <td>0.993782</td>\n    </tr>\n    <tr>\n      <th>75%</th>\n      <td>0.903476</td>\n      <td>0.971582</td>\n      <td>0.998574</td>\n    </tr>\n    <tr>\n      <th>max</th>\n      <td>0.999220</td>\n      <td>0.996200</td>\n      <td>0.999780</td>\n    </tr>\n  </tbody>\n</table>\n</div>"
     },
     "execution_count": 13,
     "metadata": {},
     "output_type": "execute_result"
    }
   ],
   "source": [
    "pred_df.describe()"
   ]
  }
 ],
 "metadata": {
  "kernelspec": {
   "display_name": "base",
   "language": "python",
   "name": "python3"
  },
  "language_info": {
   "codemirror_mode": {
    "name": "ipython",
    "version": 3
   },
   "file_extension": ".py",
   "mimetype": "text/x-python",
   "name": "python",
   "nbconvert_exporter": "python",
   "pygments_lexer": "ipython3",
   "version": "3.12.7"
  }
 },
 "nbformat": 4,
 "nbformat_minor": 5
}
